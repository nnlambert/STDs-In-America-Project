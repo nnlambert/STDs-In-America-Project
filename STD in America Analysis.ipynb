{
 "cells": [
  {
   "cell_type": "code",
   "execution_count": 1,
   "metadata": {},
   "outputs": [],
   "source": [
    "#importing necessary libraries to read in data\n",
    "import pandas as pd\n",
    "cases = pd.read_csv('STD Cases.csv')"
   ]
  },
  {
   "cell_type": "code",
   "execution_count": 2,
   "metadata": {},
   "outputs": [
    {
     "name": "stdout",
     "output_type": "stream",
     "text": [
      "<class 'pandas.core.frame.DataFrame'>\n",
      "RangeIndex: 42680 entries, 0 to 42679\n",
      "Data columns (total 11 columns):\n",
      " #   Column         Non-Null Count  Dtype  \n",
      "---  ------         --------------  -----  \n",
      " 0   index          42680 non-null  int64  \n",
      " 1   Disease        42530 non-null  object \n",
      " 2   Disease Code   42530 non-null  float64\n",
      " 3   State          42530 non-null  object \n",
      " 4   Year           42530 non-null  float64\n",
      " 5   Gender         42530 non-null  object \n",
      " 6   Age            42530 non-null  object \n",
      " 7   Age Code       42530 non-null  object \n",
      " 8   STD Cases      42530 non-null  float64\n",
      " 9   Population     35483 non-null  float64\n",
      " 10  Rate per 100K  35483 non-null  float64\n",
      "dtypes: float64(5), int64(1), object(5)\n",
      "memory usage: 3.6+ MB\n"
     ]
    }
   ],
   "source": [
    "#Examining the breakdown of information using .info()\n",
    "cases.info()"
   ]
  },
  {
   "cell_type": "markdown",
   "metadata": {},
   "source": [
    "### Observation\n",
    "From the breakdown above, we are able to determine that there are no null values in the dataset and that our data types correspond correctly with the dimensions that we will be observing in the rest of this analysis"
   ]
  },
  {
   "cell_type": "code",
   "execution_count": 12,
   "metadata": {},
   "outputs": [
    {
     "data": {
      "text/html": [
       "<div>\n",
       "<style scoped>\n",
       "    .dataframe tbody tr th:only-of-type {\n",
       "        vertical-align: middle;\n",
       "    }\n",
       "\n",
       "    .dataframe tbody tr th {\n",
       "        vertical-align: top;\n",
       "    }\n",
       "\n",
       "    .dataframe thead th {\n",
       "        text-align: right;\n",
       "    }\n",
       "</style>\n",
       "<table border=\"1\" class=\"dataframe\">\n",
       "  <thead>\n",
       "    <tr style=\"text-align: right;\">\n",
       "      <th></th>\n",
       "      <th>Disease</th>\n",
       "      <th>Disease Code</th>\n",
       "      <th>State</th>\n",
       "      <th>Year</th>\n",
       "      <th>Gender</th>\n",
       "      <th>Age</th>\n",
       "      <th>Age Code</th>\n",
       "      <th>STD Cases</th>\n",
       "      <th>Population</th>\n",
       "      <th>Rate per 100K</th>\n",
       "    </tr>\n",
       "  </thead>\n",
       "  <tbody>\n",
       "    <tr>\n",
       "      <th>0</th>\n",
       "      <td>Chlamydia</td>\n",
       "      <td>274.0</td>\n",
       "      <td>Alabama</td>\n",
       "      <td>1996.0</td>\n",
       "      <td>Male</td>\n",
       "      <td>0-14 years</td>\n",
       "      <td>0-14</td>\n",
       "      <td>25.0</td>\n",
       "      <td>468394.0</td>\n",
       "      <td>5.34</td>\n",
       "    </tr>\n",
       "    <tr>\n",
       "      <th>1</th>\n",
       "      <td>Chlamydia</td>\n",
       "      <td>274.0</td>\n",
       "      <td>Alabama</td>\n",
       "      <td>1996.0</td>\n",
       "      <td>Male</td>\n",
       "      <td>15-19 years</td>\n",
       "      <td>15-19</td>\n",
       "      <td>164.0</td>\n",
       "      <td>165920.0</td>\n",
       "      <td>98.84</td>\n",
       "    </tr>\n",
       "    <tr>\n",
       "      <th>2</th>\n",
       "      <td>Chlamydia</td>\n",
       "      <td>274.0</td>\n",
       "      <td>Alabama</td>\n",
       "      <td>1996.0</td>\n",
       "      <td>Male</td>\n",
       "      <td>20-24 years</td>\n",
       "      <td>20-24</td>\n",
       "      <td>193.0</td>\n",
       "      <td>152848.0</td>\n",
       "      <td>126.27</td>\n",
       "    </tr>\n",
       "    <tr>\n",
       "      <th>3</th>\n",
       "      <td>Chlamydia</td>\n",
       "      <td>274.0</td>\n",
       "      <td>Alabama</td>\n",
       "      <td>1996.0</td>\n",
       "      <td>Male</td>\n",
       "      <td>25-29 years</td>\n",
       "      <td>25-29</td>\n",
       "      <td>88.0</td>\n",
       "      <td>152778.0</td>\n",
       "      <td>57.60</td>\n",
       "    </tr>\n",
       "    <tr>\n",
       "      <th>4</th>\n",
       "      <td>Chlamydia</td>\n",
       "      <td>274.0</td>\n",
       "      <td>Alabama</td>\n",
       "      <td>1996.0</td>\n",
       "      <td>Male</td>\n",
       "      <td>30-34 years</td>\n",
       "      <td>30-34</td>\n",
       "      <td>55.0</td>\n",
       "      <td>155850.0</td>\n",
       "      <td>35.29</td>\n",
       "    </tr>\n",
       "  </tbody>\n",
       "</table>\n",
       "</div>"
      ],
      "text/plain": [
       "     Disease  Disease Code    State    Year Gender          Age Age Code  \\\n",
       "0  Chlamydia         274.0  Alabama  1996.0   Male   0-14 years     0-14   \n",
       "1  Chlamydia         274.0  Alabama  1996.0   Male  15-19 years    15-19   \n",
       "2  Chlamydia         274.0  Alabama  1996.0   Male  20-24 years    20-24   \n",
       "3  Chlamydia         274.0  Alabama  1996.0   Male  25-29 years    25-29   \n",
       "4  Chlamydia         274.0  Alabama  1996.0   Male  30-34 years    30-34   \n",
       "\n",
       "   STD Cases  Population  Rate per 100K  \n",
       "0       25.0    468394.0           5.34  \n",
       "1      164.0    165920.0          98.84  \n",
       "2      193.0    152848.0         126.27  \n",
       "3       88.0    152778.0          57.60  \n",
       "4       55.0    155850.0          35.29  "
      ]
     },
     "execution_count": 12,
     "metadata": {},
     "output_type": "execute_result"
    }
   ],
   "source": [
    "#Taking a look at the first few rows\n",
    "#Eliminating the index as it is redundant\n",
    "cases.drop('index', axis=1, inplace=True)\n",
    "cases.head()"
   ]
  },
  {
   "cell_type": "markdown",
   "metadata": {},
   "source": [
    "### Initial Questions Based on Preview\n",
    "\n",
    "- Which disease has the highest total count since 1996?\n",
    "- Which disease was most common in each year?\n",
    "- Which disease was most common in each state in 2022?\n",
    "- In which Gender was each disease most prevalent each year?\n",
    "- Which age group was affected the most by each disease in the past decade?"
   ]
  },
  {
   "cell_type": "code",
   "execution_count": 23,
   "metadata": {},
   "outputs": [
    {
     "data": {
      "text/plain": [
       "array(['Chlamydia', 'Gonorrhea', 'Primary and Secondary Syphilis', nan],\n",
       "      dtype=object)"
      ]
     },
     "execution_count": 23,
     "metadata": {},
     "output_type": "execute_result"
    }
   ],
   "source": [
    "#Finding unique values for our disease column\n",
    "df1[\"Disease\"].unique()"
   ]
  },
  {
   "cell_type": "code",
   "execution_count": 22,
   "metadata": {},
   "outputs": [
    {
     "data": {
      "text/html": [
       "<div>\n",
       "<style scoped>\n",
       "    .dataframe tbody tr th:only-of-type {\n",
       "        vertical-align: middle;\n",
       "    }\n",
       "\n",
       "    .dataframe tbody tr th {\n",
       "        vertical-align: top;\n",
       "    }\n",
       "\n",
       "    .dataframe thead th {\n",
       "        text-align: right;\n",
       "    }\n",
       "</style>\n",
       "<table border=\"1\" class=\"dataframe\">\n",
       "  <thead>\n",
       "    <tr style=\"text-align: right;\">\n",
       "      <th></th>\n",
       "      <th>Disease</th>\n",
       "      <th>STD Cases</th>\n",
       "    </tr>\n",
       "  </thead>\n",
       "  <tbody>\n",
       "    <tr>\n",
       "      <th>0</th>\n",
       "      <td>Chlamydia</td>\n",
       "      <td>25.0</td>\n",
       "    </tr>\n",
       "    <tr>\n",
       "      <th>1</th>\n",
       "      <td>Chlamydia</td>\n",
       "      <td>164.0</td>\n",
       "    </tr>\n",
       "    <tr>\n",
       "      <th>2</th>\n",
       "      <td>Chlamydia</td>\n",
       "      <td>193.0</td>\n",
       "    </tr>\n",
       "    <tr>\n",
       "      <th>3</th>\n",
       "      <td>Chlamydia</td>\n",
       "      <td>88.0</td>\n",
       "    </tr>\n",
       "    <tr>\n",
       "      <th>4</th>\n",
       "      <td>Chlamydia</td>\n",
       "      <td>55.0</td>\n",
       "    </tr>\n",
       "  </tbody>\n",
       "</table>\n",
       "</div>"
      ],
      "text/plain": [
       "     Disease  STD Cases\n",
       "0  Chlamydia       25.0\n",
       "1  Chlamydia      164.0\n",
       "2  Chlamydia      193.0\n",
       "3  Chlamydia       88.0\n",
       "4  Chlamydia       55.0"
      ]
     },
     "execution_count": 22,
     "metadata": {},
     "output_type": "execute_result"
    }
   ],
   "source": [
    "# To answer the first question we only need the disease column and the Number of STD cases\n",
    "df1 = cases[[\"Disease\", \"STD Cases\"]]\n",
    "df1.head()"
   ]
  },
  {
   "cell_type": "code",
   "execution_count": 19,
   "metadata": {},
   "outputs": [
    {
     "name": "stdout",
     "output_type": "stream",
     "text": [
      "                                 STD Cases\n",
      "Disease                                   \n",
      "Chlamydia                       18991264.0\n",
      "Gonorrhea                        6454097.0\n",
      "Primary and Secondary Syphilis    205913.0\n"
     ]
    }
   ],
   "source": [
    "# Grouping by diseases to do an aggregate sum\n",
    "df2 = df1.groupby('Disease').sum()\n",
    "print(df2)"
   ]
  },
  {
   "cell_type": "code",
   "execution_count": null,
   "metadata": {},
   "outputs": [],
   "source": []
  }
 ],
 "metadata": {
  "kernelspec": {
   "display_name": "Python 3",
   "language": "python",
   "name": "python3"
  },
  "language_info": {
   "codemirror_mode": {
    "name": "ipython",
    "version": 3
   },
   "file_extension": ".py",
   "mimetype": "text/x-python",
   "name": "python",
   "nbconvert_exporter": "python",
   "pygments_lexer": "ipython3",
   "version": "3.7.6"
  }
 },
 "nbformat": 4,
 "nbformat_minor": 4
}
